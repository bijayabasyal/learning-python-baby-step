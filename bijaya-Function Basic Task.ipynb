{
 "cells": [
  {
   "cell_type": "markdown",
   "id": "a63234cc",
   "metadata": {},
   "source": [
    "![img](https://ytu-cvlab.github.io/mce-51069/images/copied_from_nb/images/function.jpeg)"
   ]
  },
  {
   "cell_type": "markdown",
   "id": "0f0c84d1",
   "metadata": {},
   "source": [
    "# What is the Syntac of user-defined function?"
   ]
  },
  {
   "cell_type": "markdown",
   "id": "c1989c98",
   "metadata": {},
   "source": [
    "a user-defined function is declared by the keyword def followed by the <function_name>        # variable defined by user"
   ]
  },
  {
   "cell_type": "code",
   "execution_count": 5,
   "id": "5c7664de",
   "metadata": {},
   "outputs": [
    {
     "ename": "SyntaxError",
     "evalue": "incomplete input (2493506601.py, line 6)",
     "output_type": "error",
     "traceback": [
      "\u001b[1;36m  Cell \u001b[1;32mIn[5], line 6\u001b[1;36m\u001b[0m\n\u001b[1;33m    #return value\u001b[0m\n\u001b[1;37m                  ^\u001b[0m\n\u001b[1;31mSyntaxError\u001b[0m\u001b[1;31m:\u001b[0m incomplete input\n"
     ]
    }
   ],
   "source": [
    "#write syntax below\n",
    "\n",
    "def function_name(parameter):\n",
    "    #function body\n",
    "\n",
    "#return value \n"
   ]
  },
  {
   "cell_type": "code",
   "execution_count": null,
   "id": "aeeec3b3",
   "metadata": {},
   "outputs": [
    {
     "name": "stdout",
     "output_type": "stream",
     "text": [
      "hare krishna\n"
     ]
    }
   ],
   "source": [
    "def greet():\n",
    "    print(\"hare krishna\")\n",
    "greet()"
   ]
  },
  {
   "cell_type": "code",
   "execution_count": null,
   "id": "ce26a9e6",
   "metadata": {},
   "outputs": [
    {
     "name": "stdout",
     "output_type": "stream",
     "text": [
      "bijaya\n"
     ]
    }
   ],
   "source": [
    "def greet(name):\n",
    "    print(\"bijaya\")\n",
    "\n",
    "greet(\"bijaya\")"
   ]
  },
  {
   "cell_type": "markdown",
   "id": "95a82df7",
   "metadata": {},
   "source": [
    "# Task 1: Define a Function"
   ]
  },
  {
   "cell_type": "code",
   "execution_count": null,
   "id": "102b3ecb",
   "metadata": {},
   "outputs": [],
   "source": [
    "# Define a function called `greet` that takes a single parameter `name`.\n",
    "# The purpose of this function is to print a greeting message that says \"Hello, [name]!\".\n",
    "# For example, calling greet(\"Alice\") should output \"Hello, Alice!\"."
   ]
  },
  {
   "cell_type": "markdown",
   "id": "a53f35c2",
   "metadata": {},
   "source": [
    "a function called `greet` that takes a single parameter `name`"
   ]
  },
  {
   "cell_type": "code",
   "execution_count": 9,
   "id": "902c8d46",
   "metadata": {},
   "outputs": [
    {
     "name": "stdout",
     "output_type": "stream",
     "text": [
      "Hello, Alice!\n"
     ]
    }
   ],
   "source": [
    "# Write your code here\n",
    "\n",
    "def greet(name):\n",
    "    print(\"Hello, \" + name + \"!\")\n",
    "\n",
    "greet(\"Alice\")        \n"
   ]
  },
  {
   "cell_type": "markdown",
   "id": "691a4aa0",
   "metadata": {},
   "source": [
    "# Task 2: Call the Function"
   ]
  },
  {
   "cell_type": "code",
   "execution_count": null,
   "id": "8db69a6b",
   "metadata": {},
   "outputs": [],
   "source": [
    "# After defining the function, call it with different names to see the output.\n",
    "# You should call the function at least three times with different names"
   ]
  },
  {
   "cell_type": "code",
   "execution_count": 10,
   "id": "4dcb10ba",
   "metadata": {},
   "outputs": [
    {
     "name": "stdout",
     "output_type": "stream",
     "text": [
      "Hello, Bob!\n",
      "Hello, julia!\n",
      "Hello, mark!\n"
     ]
    }
   ],
   "source": [
    "# Write your code here\n",
    "\n",
    "def greet(name):\n",
    "    print(\"Hello, \" + name + \"!\")\n",
    "\n",
    "greet(\"Bob\")\n",
    "greet(\"julia\")\n",
    "greet(\"mark\")\n",
    "\n",
    "\n",
    "\n",
    "\n",
    "\n"
   ]
  },
  {
   "cell_type": "markdown",
   "id": "ba477a96",
   "metadata": {},
   "source": [
    "# Task 3: Experiment with Different Inputs"
   ]
  },
  {
   "cell_type": "code",
   "execution_count": 29,
   "id": "2f3d4ca0",
   "metadata": {},
   "outputs": [
    {
     "name": "stdout",
     "output_type": "stream",
     "text": [
      "hello, Dave!\n",
      "Hello, !\n"
     ]
    },
    {
     "ename": "TypeError",
     "evalue": "greet() takes 0 positional arguments but 1 was given",
     "output_type": "error",
     "traceback": [
      "\u001b[1;31m---------------------------------------------------------------------------\u001b[0m",
      "\u001b[1;31mTypeError\u001b[0m                                 Traceback (most recent call last)",
      "Cell \u001b[1;32mIn[29], line 17\u001b[0m\n\u001b[0;32m     14\u001b[0m     \u001b[38;5;28mprint\u001b[39m(\u001b[38;5;124m\"\u001b[39m\u001b[38;5;124mHello, \u001b[39m\u001b[38;5;124m\"\u001b[39m \u001b[38;5;241m+\u001b[39m \u001b[38;5;124m\"\u001b[39m\u001b[38;5;124m\"\u001b[39m \u001b[38;5;241m+\u001b[39m \u001b[38;5;124m\"\u001b[39m\u001b[38;5;124m!\u001b[39m\u001b[38;5;124m\"\u001b[39m)\n\u001b[0;32m     16\u001b[0m greet()\n\u001b[1;32m---> 17\u001b[0m greet(\u001b[38;5;124m\"\u001b[39m\u001b[38;5;124m\"\u001b[39m)   \n\u001b[0;32m     19\u001b[0m \u001b[38;5;66;03m# - A string with special characters (e.g., greet(\"!@#\"))\u001b[39;00m\n\u001b[0;32m     20\u001b[0m \u001b[38;5;28;01mdef\u001b[39;00m \u001b[38;5;21mgreet\u001b[39m(name):\n",
      "\u001b[1;31mTypeError\u001b[0m: greet() takes 0 positional arguments but 1 was given"
     ]
    }
   ],
   "source": [
    "# Try calling the `greet` function with different types of inputs: \n",
    "# and observe and note down what happens with each type of input.\n",
    "\n",
    "\n",
    "# - A string with a different name (e.g., greet(\"Dave\"))\n",
    "def greet(name):\n",
    "    print(\"hello, \" + name + \"!\")\n",
    "\n",
    "greet(\"Dave\")\n",
    "\n",
    "\n",
    "# - An empty string (e.g., greet(\"\"))\n",
    "def greet():\n",
    "    print(\"Hello, \" + \"\" + \"!\")\n",
    "\n",
    "greet()\n",
    "greet(\"\")   \n",
    "\n",
    "# - A string with special characters (e.g., greet(\"!@#\"))\n",
    "def greet(name):\n",
    "    print(\"hello, \" + name + \"!\")\n",
    "\n",
    "greet(\"!@#\")\n",
    "\n",
    "\n",
    "# - A non-string input (e.g., greet(123))\n",
    "def greet(name):\n",
    "     print(\"hello, \" + name + \"!\")\n",
    "\n",
    "greet(123)\n",
    "\n"
   ]
  },
  {
   "cell_type": "markdown",
   "id": "760f2010",
   "metadata": {},
   "source": [
    "# Write down your observations on how the `greet` function behaves with different inputs.\n",
    "\n",
    "# and write in paragraph about what you undestood about function"
   ]
  },
  {
   "cell_type": "code",
   "execution_count": null,
   "id": "f773705e",
   "metadata": {},
   "outputs": [],
   "source": [
    "a function `greet` behaves\n",
    "single parameter name, which is expected to be a string \n",
    "empty string, special character, non string, \n"
   ]
  }
 ],
 "metadata": {
  "kernelspec": {
   "display_name": "Python 3 (ipykernel)",
   "language": "python",
   "name": "python3"
  },
  "language_info": {
   "codemirror_mode": {
    "name": "ipython",
    "version": 3
   },
   "file_extension": ".py",
   "mimetype": "text/x-python",
   "name": "python",
   "nbconvert_exporter": "python",
   "pygments_lexer": "ipython3",
   "version": "3.11.7"
  }
 },
 "nbformat": 4,
 "nbformat_minor": 5
}
