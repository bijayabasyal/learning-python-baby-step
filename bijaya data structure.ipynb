{
 "cells": [
  {
   "cell_type": "markdown",
   "id": "7c6627e5",
   "metadata": {},
   "source": [
    "## Data Structure Methods \n",
    "\n",
    "\n",
    "![](https://devopedia.org/images/article/41/8174.1595680354.png)\n",
    "\n",
    "\n",
    "Python provides various built-in data structures, each with its own set of methods for manipulating and accessing data.\n",
    "\n",
    "Here are the common methods for the main Python data structures that we will try out. \n",
    "\n",
    "\n"
   ]
  },
  {
   "cell_type": "markdown",
   "id": "8c6079f7",
   "metadata": {},
   "source": [
    "# List Methods\n",
    "\n",
    "- **append(x)**: Adds an item to the end of the list.\n",
    "- **extend(iterable)**: Extends the list by adding all items from an iterable (list, range, etc.).\n",
    "- **insert(i, x)**: Inserts an item at a given position *i*.\n",
    "- **remove(x)**: Removes the first item from the list whose value is *x*.\n",
    "- **pop([i])**: Removes the item at the given position *i* and returns it. If no index is specified, it removes and returns the last item.\n",
    "- **index(x)**: Returns the index of the first item whose value is *x*.\n",
    "- **count(x)**: Returns the number of times *x* appears in the list.\n",
    "- **sort(key=..., reverse=...)**: Sorts the items of the list in place.\n",
    "- **reverse()**: Reverses the elements of the list in place.\n",
    "\n",
    "# Dictionary Methods\n",
    "\n",
    "- **keys()**: Returns a view object containing the dictionary's keys.\n",
    "- **values()**: Returns a view object containing the dictionary's values.\n",
    "- **items()**: Returns a view object containing the dictionary's key-value pairs.\n",
    "- **get(key, default=None)**: Returns the value for *key* if *key* is in the dictionary, else *default*.\n",
    "- **pop(key, default)**: Removes the key-value pair with the given *key* and returns the value. If *key* is not found, it returns *default*.\n",
    "- **update(dict2)**: Updates the dictionary with the key-value pairs from *dict2*.\n",
    "\n",
    "# Set Methods\n",
    "\n",
    "- **add(elem)**: Adds an element to the set.\n",
    "- **remove(elem)**: Removes the element from the set. Raises a `KeyError` if *elem* is not contained in the set.\n",
    "- **discard(elem)**: Removes the element from the set if it is present.\n",
    "- **pop()**: Removes and returns an arbitrary element from the set.\n",
    "- **union(set2)**: Returns a new set with elements from both sets.\n",
    "- **intersection(set2)**: Returns a new set with elements common to both sets.\n",
    "- **difference(set2)**: Returns a new set with elements in the set that are not in *set2*.\n",
    "\n",
    "# Tuple Methods\n",
    "\n",
    "Tuples are immutable, so they have fewer methods compared to lists:\n",
    "\n",
    "- **count(x)**: Returns the number of times *x* appears in the tuple.\n",
    "- **index(x)**: Returns the index of the first item whose value is *x*.\n"
   ]
  },
  {
   "cell_type": "markdown",
   "id": "c5d16328",
   "metadata": {},
   "source": [
    "### Recommended Reading\n",
    "\n",
    "https://www.stationx.net/python-data-structures-cheat-sheet/\n",
    "### You can get more about this methods into documentation\n",
    "https://docs.python.org/3/tutorial/datastructures.html\n",
    "\n",
    "> Remember, in order to show to the screen, you need to use print() statement"
   ]
  },
  {
   "cell_type": "markdown",
   "id": "21cf4040",
   "metadata": {},
   "source": [
    "# List"
   ]
  },
  {
   "cell_type": "code",
   "execution_count": 26,
   "id": "80157d46",
   "metadata": {},
   "outputs": [
    {
     "ename": "TypeError",
     "evalue": "list indices must be integers or slices, not str",
     "output_type": "error",
     "traceback": [
      "\u001b[1;31m---------------------------------------------------------------------------\u001b[0m",
      "\u001b[1;31mTypeError\u001b[0m                                 Traceback (most recent call last)",
      "Cell \u001b[1;32mIn[26], line 11\u001b[0m\n\u001b[0;32m      7\u001b[0m second_my_favorite_fruits \u001b[38;5;241m=\u001b[39m my_favorite_fruits[\u001b[38;5;241m1\u001b[39m]\n\u001b[0;32m      9\u001b[0m \u001b[38;5;66;03m# Update: Change the third item to \"orange\".\u001b[39;00m\n\u001b[1;32m---> 11\u001b[0m my_favorite_fruits[\u001b[38;5;124m\"\u001b[39m\u001b[38;5;124mcherry\u001b[39m\u001b[38;5;124m\"\u001b[39m] \u001b[38;5;241m=\u001b[39m \u001b[38;5;124m\"\u001b[39m\u001b[38;5;124morange\u001b[39m\u001b[38;5;124m\"\u001b[39m\n\u001b[0;32m     13\u001b[0m \u001b[38;5;66;03m# Remove: Remove the first item from the list.\u001b[39;00m\n\u001b[0;32m     14\u001b[0m my_favorite_fruits\u001b[38;5;241m.\u001b[39mremove(\u001b[38;5;124m\"\u001b[39m\u001b[38;5;124mapple\u001b[39m\u001b[38;5;124m\"\u001b[39m)\n",
      "\u001b[1;31mTypeError\u001b[0m: list indices must be integers or slices, not str"
     ]
    }
   ],
   "source": [
    "# Creation: Create a list of your favorite fruits # Fruits can be - \"apple\", \"banana\", \"cherry\", \"date\", \"elderberry\"\n",
    "\n",
    "my_favorite_fruits = [\"apple\", \"banana\", \"cherry\", \"date\", \"elderberry\"]\n",
    "\n",
    "# Access: Access the second item in the list.\n",
    "\n",
    "second_my_favorite_fruits = my_favorite_fruits[1]\n",
    "\n",
    "# Update: Change the third item to \"orange\".\n",
    "\n",
    "my_favorite_fruits[\"cherry\"] = \"orange\"\n",
    "\n",
    "# Remove: Remove the first item from the list.\n",
    "my_favorite_fruits.remove(\"apple\")\n",
    "\n",
    "# Extend your list with the new fruits and print the updated list.\n",
    "\n",
    "my_favorite_fruits.extend([\"grapes\", \"peach\"])\n",
    "print(my_favorite_fruits)\n",
    "\n",
    "# Insert \"kiwi\" at the second position in your list and print the updated list.\n",
    "\n",
    "my_favorite_fruits.insert(1, \"kiwi\")\n",
    "print(my_favorite_fruits)\n",
    "\n",
    "# Count and print the number of times \"apple\" appears in your list.\n",
    "\n",
    "count_apple = my_favorite_fruits.count(\"apple\")\n",
    "print(count_apple)\n",
    "\n",
    "# Reverse the order of your list and print the reversed list.\n",
    "reverse_list = my_favorite_fruits.reverse()\n",
    "print(reverse_list)\n",
    "\n",
    "# Sort the list in alphabetical order.\n",
    "\n",
    "my_favorite_fruits.sort()\n"
   ]
  },
  {
   "cell_type": "markdown",
   "id": "060b720b",
   "metadata": {},
   "source": [
    "# Tuples"
   ]
  },
  {
   "cell_type": "code",
   "execution_count": 27,
   "id": "2b40264b",
   "metadata": {},
   "outputs": [
    {
     "ename": "SyntaxError",
     "evalue": "cannot assign to function call here. Maybe you meant '==' instead of '='? (762264199.py, line 8)",
     "output_type": "error",
     "traceback": [
      "\u001b[1;36m  Cell \u001b[1;32mIn[27], line 8\u001b[1;36m\u001b[0m\n\u001b[1;33m    fruits(\"grapes\") = \"yellow\"\u001b[0m\n\u001b[1;37m    ^\u001b[0m\n\u001b[1;31mSyntaxError\u001b[0m\u001b[1;31m:\u001b[0m cannot assign to function call here. Maybe you meant '==' instead of '='?\n"
     ]
    }
   ],
   "source": [
    "# Creation: Create a tuple with four different fruits.\n",
    "fruits = (\"guava\", \"grapes\", \"litchi\", \"kiwi\")\n",
    "\n",
    "# Access: Access and print the third item in the tuple.\n",
    "print(fruits[2])\n",
    "\n",
    "# Update: Try to change the second item to \"yellow\" and observe what happens. Expect something error\n",
    "fruits(\"grapes\") = \"yellow\"\n",
    "print(fruits)                 #cannot assign to function call here\n",
    "\n",
    "# Remove: Give reason why you can or can't\n",
    "tuple is non mutable\n",
    "\n",
    "# Find the index of \"yellow\" in the tuple using index method and print it.\n",
    "grapes_index = fruits.index(\"grapes\")"
   ]
  },
  {
   "cell_type": "markdown",
   "id": "d9af3178",
   "metadata": {},
   "source": [
    "# SET"
   ]
  },
  {
   "cell_type": "code",
   "execution_count": null,
   "id": "c38b08db",
   "metadata": {},
   "outputs": [],
   "source": [
    "# Creation: Create a set of your favorite fruits\n",
    "\n",
    "fav_fruits = {\"kiwi\", \"litchi\", \"guava\", \"banana\", \"cherry\"}\n",
    "\n",
    "# Access: Check if your \"Mango\" is in the set.\n",
    "\n",
    "mango_in_set = (\"mango\" in fav_fruits )\n",
    "\n",
    "# Update: Add \"Mango\" to the set.\n",
    "\n",
    "fav_fruits.add(\"mango\")\n",
    "\n",
    "# Remove \"banana\" from your set and print the updated set.\n",
    "\n",
    "fav_fruits.remove(\"banana\")\n",
    "\n",
    "# Pop an element from your set and print the popped element and the updated set.\n",
    "\n",
    "fav_fruits.pop( )\n",
    "\n",
    "# Discard \"cherry\" from your set and print the updated set.\n",
    "\n",
    "fav_fruits.remove(\"cherry\")"
   ]
  },
  {
   "cell_type": "markdown",
   "id": "77344d89",
   "metadata": {},
   "source": [
    "# Dictionary"
   ]
  },
  {
   "cell_type": "code",
   "execution_count": 4,
   "id": "02ece1f6",
   "metadata": {},
   "outputs": [
    {
     "name": "stdout",
     "output_type": "stream",
     "text": [
      "red\n",
      "dict_values(['yellow', 'purple', 'red', 'red'])\n",
      "dict_keys(['banana', 'dragon fruit', 'cherry', 'strawberry'])\n",
      "dict_items([('banana', 'yellow'), ('dragon fruit', 'purple'), ('cherry', 'red'), ('strawberry', 'red')])\n",
      "unknown\n",
      "{'banana': 'yellow', 'dragon fruit': 'purple', 'cherry': 'red', 'strawberry': 'red', 'kiwi': 'green'}\n"
     ]
    }
   ],
   "source": [
    "# Create a dictionary of your favorite fruits and their colors.\n",
    "\n",
    "dictionary = {\"banana\":\"yellow\", \"date\":\"dark brown\", \"dragon fruit\":\"purple\", \"cherry\":\"red\", \"strawberry\":\"red\"}\n",
    "\n",
    "# Access: Access the color of 'banana'.\n",
    "\n",
    "dictionary[\"banana\"]\n",
    "\n",
    "# Update the color of \"cherry\" and print the updated dictionary.\n",
    "\n",
    "print(dictionary[\"cherry\"])\n",
    "\n",
    "# Remove \"date\" from your dictionary and print the updated dictionary using pop methoddel dictionary[\"date\"]\n",
    "\n",
    "dictionary.pop(\"date\")\n",
    "\n",
    "# Print the list of all values in your dictionary\n",
    "\n",
    "values = dictionary.values()\n",
    "print(values)\n",
    "\n",
    "# Print the list of all keys in your dictionary.\n",
    "keys = dictionary.keys()\n",
    "print(keys)\n",
    "\n",
    "# Print the list of all key-value pairs in your dictionary\n",
    "list_of_key_values = dictionary.items()\n",
    "print(list_of_key_values)\n",
    "\n",
    "# Print the color of \"apple\" using the `get` method.\n",
    "\n",
    "apple_color = dictionary.get(\"apple\", \"unknown\")\n",
    "print(apple_color)\n",
    "\n",
    "# Update your dictionary with the new key-value pairs and print the updated dictionary.\n",
    "dictionary.update({\"kiwi\":\"green\",})\n",
    "print(dictionary)"
   ]
  },
  {
   "cell_type": "markdown",
   "id": "1147fb20",
   "metadata": {},
   "source": [
    "> Extra Task \n",
    "# List Compression"
   ]
  },
  {
   "cell_type": "code",
   "execution_count": 8,
   "id": "2843c7d3",
   "metadata": {},
   "outputs": [
    {
     "name": "stdout",
     "output_type": "stream",
     "text": [
      "[1, 4, 9, 16, 25, 36, 49, 64, 81, 100]\n"
     ]
    }
   ],
   "source": [
    "# Create a list of squares of numbers from 1 to 10.\n",
    "numbers = [1,2,3,4,5,6,7,8,9,10]\n",
    "squares = [num**2 for num in numbers]\n",
    "print(squares)"
   ]
  },
  {
   "cell_type": "code",
   "execution_count": null,
   "id": "0d9983ab",
   "metadata": {},
   "outputs": [],
   "source": [
    "# Explain in the markdown what is happening in this code\n",
    "\n",
    "words = [\"hello\", \"world\", \"python\", \"list\", \"comprehension\"]\n",
    "uppercase_words = [word.upper() for word in words]\n",
    "print(uppercase_words)"
   ]
  },
  {
   "cell_type": "markdown",
   "id": "4aac54ea",
   "metadata": {},
   "source": [
    "the words consist list data structure containing five strings.\n",
    "second line, this is the code for making given strings in uppercase.\n",
    "thrid one gives the result."
   ]
  },
  {
   "cell_type": "markdown",
   "id": "9cec37a4",
   "metadata": {},
   "source": [
    "> Submit to the email"
   ]
  },
  {
   "cell_type": "markdown",
   "id": "26f5e9d2",
   "metadata": {},
   "source": [
    "Recommended Reading\n",
    "\n",
    "https://www.stationx.net/python-data-structures-cheat-sheet/"
   ]
  },
  {
   "cell_type": "code",
   "execution_count": null,
   "id": "140d6880",
   "metadata": {},
   "outputs": [],
   "source": []
  }
 ],
 "metadata": {
  "kernelspec": {
   "display_name": "Python 3 (ipykernel)",
   "language": "python",
   "name": "python3"
  },
  "language_info": {
   "codemirror_mode": {
    "name": "ipython",
    "version": 3
   },
   "file_extension": ".py",
   "mimetype": "text/x-python",
   "name": "python",
   "nbconvert_exporter": "python",
   "pygments_lexer": "ipython3",
   "version": "3.11.7"
  }
 },
 "nbformat": 4,
 "nbformat_minor": 5
}
